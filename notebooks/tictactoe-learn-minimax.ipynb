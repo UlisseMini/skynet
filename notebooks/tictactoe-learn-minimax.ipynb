{
 "cells": [
  {
   "cell_type": "code",
   "execution_count": 1,
   "metadata": {},
   "outputs": [],
   "source": [
    "import gym\n",
    "import torch\n",
    "import torch.optim as optim\n",
    "import torch.nn as nn\n",
    "import torch.nn.functional as F"
   ]
  },
  {
   "cell_type": "code",
   "execution_count": 2,
   "metadata": {},
   "outputs": [
    {
     "data": {
      "text/plain": [
       "device(type='cuda')"
      ]
     },
     "execution_count": 2,
     "metadata": {},
     "output_type": "execute_result"
    }
   ],
   "source": [
    "torch.manual_seed(42)\n",
    "device = torch.device('cuda' if torch.cuda.is_available() else 'cpu')\n",
    "device"
   ]
  },
  {
   "cell_type": "code",
   "execution_count": 3,
   "metadata": {},
   "outputs": [],
   "source": [
    "class TicTacToe:\n",
    "    def __init__(self, state=None):\n",
    "        # turn is X=1, 0=-1\n",
    "        self.reset()\n",
    "        if state is not None:\n",
    "            self.state = state\n",
    "        if isinstance(self.state, torch.Tensor):\n",
    "            # internally state is a list (faster)\n",
    "            self.state = self.state.tolist()\n",
    "    \n",
    "    class action_space:\n",
    "        n = 9\n",
    "    \n",
    "    class observation_space:\n",
    "        n = 11 # board, done, turn\n",
    "    \n",
    "    def reset(self):\n",
    "        self.state = [0] * 11\n",
    "        self.state[-1] = 1\n",
    "        self.state[-2] = 0\n",
    "        return self.state\n",
    "    \n",
    "    def __str__(self):\n",
    "        s = str(torch.Tensor(self.state[:9]).view(3,3))\n",
    "        s += '\\nturn: ' + str(self.state[-1])\n",
    "        return s\n",
    "    \n",
    "    def render(self):\n",
    "        print(str(self))\n",
    "        \n",
    "    # 0 for draw/ongoing, 1 for Xwin, -1 for Owin\n",
    "    @staticmethod\n",
    "    def value(state):\n",
    "        board = state[0:9]\n",
    "        for turn in [1, -1]:\n",
    "\n",
    "            for i in range(3):\n",
    "                # horizontal\n",
    "                if all(board[i*3 + j] == turn for j in range(3)):\n",
    "                    return turn\n",
    "            \n",
    "                # virtical\n",
    "                if all(board[j+i] == turn for j in (0,3,6)):\n",
    "                    return turn\n",
    "            \n",
    "            # diagonals\n",
    "            if all(board[i] == turn for i in (0, 4, 8)):\n",
    "                return turn\n",
    "            \n",
    "            if all(board[i] == turn for i in (2, 4, 6)):\n",
    "                return turn\n",
    "        \n",
    "        return 0\n",
    "    \n",
    "    @classmethod\n",
    "    def is_done(cls, pos):\n",
    "        return cls.value(pos) != 0 or all(pos[i] != 0 for i in range(9))\n",
    "    \n",
    "    @classmethod\n",
    "    def dynamics(cls, state, act):\n",
    "        state = state.copy()\n",
    "        assert state[-1] in (1, -1)\n",
    "        assert 0 <= act <= 8\n",
    "        \n",
    "        rew = 0\n",
    "        if state[act] != 0:\n",
    "            raise ValueError(f'illegal move, {act} occupied {state}')\n",
    "            \n",
    "        state[act] = state[-1]\n",
    "        state[-1] *= -1\n",
    "        rew = cls.value(state)\n",
    "        if rew != 0 or all(state[i] != 0 for i in range(9)):\n",
    "            state[-2] = 1 # done=True\n",
    "            \n",
    "        return rew, state\n",
    "\n",
    "    \n",
    "    def step(self, act):\n",
    "        rew, self.state = TicTacToe.dynamics(self.state, act)\n",
    "\n",
    "        \n",
    "        return self.state, rew, bool(self.state[-2]), None\n",
    "    \n",
    "    @staticmethod\n",
    "    def legal(state):\n",
    "        for i in range(9):\n",
    "            if state[i] == 0:\n",
    "                yield i\n",
    "                \n",
    "        \n",
    "\n",
    "tests = [\n",
    "    (\n",
    "        [[1, 1, 1],\n",
    "         [0, 0, 0],\n",
    "         [-1,0,-1]],\n",
    "        1,\n",
    "    ),\n",
    "    (\n",
    "        [[1, 0, 1],\n",
    "         [0, 0, 0],\n",
    "         [-1,-1,-1]],\n",
    "        -1,\n",
    "    ),\n",
    "    (\n",
    "        [[1, -1, 1],\n",
    "         [1, 0, 0],\n",
    "         [1,-1,-1]],\n",
    "        1,\n",
    "    ),\n",
    "    (\n",
    "        [[1, 0, 0],\n",
    "         [0, 1, 0],\n",
    "         [0, 0, 1]],\n",
    "        1,\n",
    "    ),\n",
    "    (\n",
    "        [[0, 0, 1],\n",
    "         [0, 1, 0],\n",
    "         [1, 0, 1]],\n",
    "        1,\n",
    "    )\n",
    "]\n",
    "\n",
    "for test in tests:\n",
    "    state, val = test\n",
    "    tic = TicTacToe(state)\n",
    "    got_val = tic.value([t for subl in state for t in subl]) # flatten\n",
    "    assert got_val == val, f'want {val} got {got_val} on\\n{tic}'"
   ]
  },
  {
   "cell_type": "code",
   "execution_count": 4,
   "metadata": {},
   "outputs": [],
   "source": [
    "def negamax(env, obs, alpha, beta): # -> (act, val)\n",
    "    turn = obs[-1]\n",
    "    best_act = None\n",
    "    if obs[-2]:\n",
    "        # negamax relative score!\n",
    "        return best_act, turn * env.value(obs)\n",
    "    \n",
    "\n",
    "    for act in env.legal(obs):\n",
    "        _rew, new_obs = env.dynamics(obs, act)\n",
    "        \n",
    "        # beta=-alpha for child since they cannot exeed our best score or\n",
    "        # we won't go down this path\n",
    "        # alpha=-beta for child since their best will be our upper bound\n",
    "        _act, val = negamax(env, new_obs, -beta, -alpha)\n",
    "        val *= -1\n",
    "        \n",
    "        # if we exceed our upper bound return\n",
    "        if val >= beta:\n",
    "            return best_act, beta\n",
    "\n",
    "        if val > alpha:\n",
    "            best_act = act\n",
    "            alpha = val\n",
    "            \n",
    "        \n",
    "    return best_act, alpha\n",
    "\n",
    "\n",
    "def search(env, obs):\n",
    "    mv, val = negamax(env, obs, alpha=float('-inf'), beta=float('inf'))\n",
    "    return mv, val * obs[-1]"
   ]
  },
  {
   "cell_type": "code",
   "execution_count": 5,
   "metadata": {},
   "outputs": [
    {
     "name": "stdout",
     "output_type": "stream",
     "text": [
      "0\n"
     ]
    }
   ],
   "source": [
    "env = TicTacToe()\n",
    "obs = env.reset()\n",
    "mv, val = search(TicTacToe, obs)\n",
    "assert val == 0, val\n",
    "print(mv)"
   ]
  },
  {
   "cell_type": "code",
   "execution_count": 6,
   "metadata": {},
   "outputs": [],
   "source": [
    "#%timeit search(TicTacToe, obs)\n",
    "# Was super slow earlier, got it down to ~7us, could get lower with numba jit or cython if I really cared\n",
    "#%timeit env.value(obs)"
   ]
  },
  {
   "cell_type": "code",
   "execution_count": 7,
   "metadata": {},
   "outputs": [],
   "source": [
    "# NERUAL NETWORK TIME FUCK YEAH"
   ]
  },
  {
   "cell_type": "code",
   "execution_count": 8,
   "metadata": {},
   "outputs": [],
   "source": [
    "# 1. Become one with the dataset\n",
    "def compute_label(state):\n",
    "    _, val = search(TicTacToe, state.tolist())\n",
    "    return val\n",
    "\n",
    "def get_dataset(N):\n",
    "    positions = torch.randint(low=-1, high=2, size=(N,9))\n",
    "    turns = torch.randint(low=0, high=2, size=(N,))*2 - 1\n",
    "    dones = torch.Tensor([1 if TicTacToe.is_done(pos) else 0 for pos in positions])\n",
    "\n",
    "    states = torch.cat((positions, dones.view(N,1), turns.view(N,1)), dim=1)\n",
    "    assert not torch.isinf(states).any()\n",
    "\n",
    "    labels = torch.Tensor([compute_label(state) for state in states]).view(N, 1)\n",
    "    assert not torch.isinf(labels).any()\n",
    "    \n",
    "    dataset = (states.to(device), labels.to(device))\n",
    "    return dataset\n",
    "\n",
    "N = 1000\n",
    "dataset = get_dataset(N)\n",
    "states, labels = dataset\n"
   ]
  },
  {
   "cell_type": "code",
   "execution_count": 9,
   "metadata": {},
   "outputs": [
    {
     "name": "stdout",
     "output_type": "stream",
     "text": [
      "tensor([[-1.,  1.,  0.],\n",
      "        [ 0., -1.,  1.],\n",
      "        [ 0.,  1.,  0.]])\n",
      "turn: -1.0\n"
     ]
    }
   ],
   "source": [
    "TicTacToe(states[0]).render()"
   ]
  },
  {
   "cell_type": "code",
   "execution_count": 10,
   "metadata": {},
   "outputs": [],
   "source": [
    "# 2. Super basic nerual network"
   ]
  },
  {
   "cell_type": "code",
   "execution_count": 11,
   "metadata": {},
   "outputs": [],
   "source": [
    "class Net(nn.Module):\n",
    "    def __init__(self):\n",
    "        super(Net, self).__init__()\n",
    "        self.fc1 = nn.Linear(TicTacToe.observation_space.n, 8)\n",
    "        self.fc2 = nn.Linear(8, 8)\n",
    "        self.fc3 = nn.Linear(8, 8)\n",
    "        self.fc4 = nn.Linear(8, 1) # eval, orig tried to output moves, but was not working.\n",
    "        \n",
    "    def forward(self, x):\n",
    "        x = F.relu(self.fc1(x))\n",
    "        x = F.relu(self.fc2(x))\n",
    "        x = F.relu(self.fc3(x))\n",
    "        x = self.fc4(x)\n",
    "        return x\n",
    "    "
   ]
  },
  {
   "cell_type": "code",
   "execution_count": 12,
   "metadata": {},
   "outputs": [
    {
     "name": "stdout",
     "output_type": "stream",
     "text": [
      "Net(\n",
      "  (fc1): Linear(in_features=11, out_features=8, bias=True)\n",
      "  (fc2): Linear(in_features=8, out_features=8, bias=True)\n",
      "  (fc3): Linear(in_features=8, out_features=8, bias=True)\n",
      "  (fc4): Linear(in_features=8, out_features=1, bias=True)\n",
      ")\n"
     ]
    }
   ],
   "source": [
    "losses = []\n",
    "\n",
    "net = Net()\n",
    "net.to(device)\n",
    "\n",
    "loss_fn = nn.MSELoss()\n",
    "\n",
    "print(net)"
   ]
  },
  {
   "cell_type": "code",
   "execution_count": 13,
   "metadata": {},
   "outputs": [
    {
     "name": "stdout",
     "output_type": "stream",
     "text": [
      "epoch 999 loss 0.2063400000333786                               \r"
     ]
    }
   ],
   "source": [
    "optimizer = optim.SGD(net.parameters(), lr=0.05)\n",
    "\n",
    "for epoch in range(1000):\n",
    "    # TODO: minibatches\n",
    "    batch = states\n",
    "    output = net.forward(batch)\n",
    "    net.zero_grad()\n",
    "\n",
    "    loss = loss_fn(output, labels)\n",
    "    losses.append(loss)\n",
    "    print(f'epoch {epoch} loss {loss}' + ' '*30, end='\\r', flush=True)\n",
    "    loss.backward()\n",
    "    optimizer.step()"
   ]
  },
  {
   "cell_type": "code",
   "execution_count": 14,
   "metadata": {},
   "outputs": [
    {
     "data": {
      "image/png": "[encoded data removed]",
      "text/plain": [
       "<Figure size 432x288 with 1 Axes>"
      ]
     },
     "metadata": {
      "needs_background": "light"
     },
     "output_type": "display_data"
    }
   ],
   "source": [
    "import matplotlib.pyplot as plt\n",
    "%matplotlib inline\n",
    "\n",
    "plt.ylim([0, 1])\n",
    "plt.plot(losses)\n",
    "plt.show()"
   ]
  },
  {
   "cell_type": "code",
   "execution_count": 15,
   "metadata": {},
   "outputs": [],
   "source": [
    "test_states, test_labels = get_dataset(1000)\n"
   ]
  },
  {
   "cell_type": "code",
   "execution_count": 16,
   "metadata": {},
   "outputs": [
    {
     "data": {
      "text/plain": [
       "tensor(0.7830, device='cuda:0')"
      ]
     },
     "execution_count": 16,
     "metadata": {},
     "output_type": "execute_result"
    }
   ],
   "source": [
    "# Compute accuracy\n",
    "def accuracy(test_states, test_labels):\n",
    "    predicted_vals = net.forward(test_states)\n",
    "    return (predicted_vals.round() == test_labels).sum() / N\n",
    "\n",
    "accuracy(test_states, test_labels)"
   ]
  },
  {
   "cell_type": "code",
   "execution_count": 17,
   "metadata": {},
   "outputs": [
    {
     "data": {
      "text/plain": [
       "tensor(0.8070, device='cuda:0')"
      ]
     },
     "execution_count": 17,
     "metadata": {},
     "output_type": "execute_result"
    }
   ],
   "source": [
    "accuracy(states, labels)"
   ]
  }
 ],
 "metadata": {
  "kernelspec": {
   "display_name": "Python 3",
   "language": "python",
   "name": "python3"
  },
  "language_info": {
   "codemirror_mode": {
    "name": "ipython",
    "version": 3
   },
   "file_extension": ".py",
   "mimetype": "text/x-python",
   "name": "python",
   "nbconvert_exporter": "python",
   "pygments_lexer": "ipython3",
   "version": "3.9.1"
  }
 },
 "nbformat": 4,
 "nbformat_minor": 4
}
